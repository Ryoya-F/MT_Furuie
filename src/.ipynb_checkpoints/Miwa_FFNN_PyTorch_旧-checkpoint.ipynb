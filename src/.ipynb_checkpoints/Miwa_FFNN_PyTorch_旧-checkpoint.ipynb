{
 "cells": [
  {
   "cell_type": "code",
   "execution_count": 1,
   "id": "97ea9ce8-4cc1-4935-a74d-f15ca00c762c",
   "metadata": {},
   "outputs": [],
   "source": [
    "import torch\n",
    "from torch.utils.data import Dataset, DataLoader\n",
    "import pandas as pd\n",
    "import numpy as np\n",
    "import os"
   ]
  },
  {
   "cell_type": "markdown",
   "id": "6a544680-5d70-43cc-85e1-73f8163d23cd",
   "metadata": {},
   "source": [
    "## データの前処理"
   ]
  },
  {
   "cell_type": "code",
   "execution_count": 2,
   "id": "2e7483a3-cb4b-4f48-a6bd-5c392fc0cef1",
   "metadata": {},
   "outputs": [],
   "source": [
    "# データのパス指定\n",
    "data_folder = r\"C:\\Users\\ryoya\\MasterThesis\\MT_Furuie\\data\\Miwa_FFNN_Data\\Trial_1\"\n",
    "data_file_name = r\"Miwa_data_for_FFNN.xlsx\"\n",
    "idx_file_name = r\"Miwa_flood_idx_for_FFNN.xlsx\"\n",
    "\n",
    "data_path = os.path.join(data_folder, data_file_name)\n",
    "idx_path = os.path.join(data_folder, idx_file_name)\n",
    "\n",
    "\n",
    "# input, output変数の列番号を指定（0始まり）\n",
    "# タイムラグもここで指定\n",
    "input_cols = [2, 2, 1, 1]\n",
    "input_lags = [0, 1, 1, 2]\n",
    "output_cols = [1]\n",
    "output_lags = [0]\n",
    "\n",
    "# ファイルの読み込み\n",
    "d_all = pd.read_excel(data_path, header=0)\n",
    "idx_list = pd.read_excel(idx_path, header=0)\n",
    "col_trial = 10 # 【要変更】どの列がtrain, testを指定する列か\n",
    "\n",
    "train_idx = idx_list[idx_list.iloc[:, col_trial] == 'train']\n",
    "test_idx = idx_list[idx_list.iloc[:, col_trial] == 'test']\n"
   ]
  },
  {
   "cell_type": "code",
   "execution_count": null,
   "id": "08be4857-ce35-45e5-b14c-d3d2e3622c62",
   "metadata": {},
   "outputs": [],
   "source": [
    "# 必要なデータの取り出し（train）\n",
    "x_train = []\n",
    "y_train = []\n",
    "\n",
    "# inputの取り出し\n",
    "for i in range(train_idx.shape[0]):\n",
    "    s = int(train_idx.iloc[i, 0]) - 1\n",
    "    e = int(train_idx.iloc[i, 1]) - 1\n",
    "\n",
    "    # ---- X（入力データ）: 各列をその列ごとの lag 分だけずらして抽出\n",
    "    cols_block = []\n",
    "    for col, lag in zip(input_cols, input_lags):\n",
    "        start = s - lag\n",
    "        end = e - lag\n",
    "        # lag分だけ前の行を取り出す（指定範囲のまま、NaN埋め不要）\n",
    "        x_part = d_all.iloc[start:end+1, col].to_numpy().reshape(-1, 1)\n",
    "        cols_block.append(x_part)\n",
    "\n",
    "    X_seg = np.hstack(cols_block)  # (L, len(input_cols))\n",
    "\n",
    "    # 区間ごとに格納\n",
    "    x_train.append(X_seg)\n",
    "\n",
    "# ---- すべての区間を縦方向に結合\n",
    "x_train = np.vstack(x_train)\n",
    "\n",
    "\n",
    "# outputの取り出し\n",
    "for i in range(train_idx.shape[0]):\n",
    "    s = int(train_idx.iloc[i, 0]) - 1\n",
    "    e = int(train_idx.iloc[i, 1]) - 1\n",
    "\n",
    "    # ---- X（入力データ）: 各列をその列ごとの lag 分だけずらして抽出\n",
    "    cols_block = []\n",
    "    for col, lag in zip(output_cols, output_lags):\n",
    "        start = s - lag\n",
    "        end = e - lag\n",
    "        # lag分だけ前の行を取り出す（指定範囲のまま、NaN埋め不要）\n",
    "        y_part = d_all.iloc[start:end+1, col].to_numpy().reshape(-1, 1)\n",
    "        cols_block.append(y_part)\n",
    "\n",
    "    Y_seg = np.hstack(cols_block)  # (L, len(input_cols))\n",
    "\n",
    "    # 区間ごとに格納\n",
    "    y_train.append(Y_seg)\n",
    "\n",
    "# ---- すべての区間を縦方向に結合\n",
    "y_train = np.vstack(y_train)"
   ]
  },
  {
   "cell_type": "code",
   "execution_count": 7,
   "id": "20373308-5acb-4efa-bfe4-8512099689e1",
   "metadata": {},
   "outputs": [],
   "source": [
    "# データの標準化関数\n",
    "def standardize_by_column(X):\n",
    "    \"\"\"列ごとに標準化し、平均と標準偏差を返す\"\"\"\n",
    "    mean = np.mean(X, axis=0)\n",
    "    std  = np.std(X, axis=0, ddof=0)\n",
    "\n",
    "    # 標準偏差が0の列は0除算を防ぐ\n",
    "    std[std == 0] = 1.0\n",
    "\n",
    "    X_std = (X - mean) / std\n",
    "    return X_std, mean, std\n"
   ]
  },
  {
   "cell_type": "code",
   "execution_count": 8,
   "id": "7f577664-6822-4fe6-bb49-c20b631699fc",
   "metadata": {},
   "outputs": [],
   "source": [
    "# データの標準化\n",
    "x_train_std, x_mean, x_std = standardize_by_column(x_train)\n",
    "y_train_std, y_mean, y_std = standardize_by_column(y_train)\n",
    "\n",
    "x_train_params = pd.DataFrame({'mean': x_mean, 'std': x_std})\n",
    "y_train_params = pd.DataFrame({'mean': y_mean, 'std': y_std})\n",
    "\n"
   ]
  },
  {
   "cell_type": "code",
   "execution_count": null,
   "id": "fe17ec27-7026-4064-852b-a18f5beaa003",
   "metadata": {},
   "outputs": [],
   "source": []
  }
 ],
 "metadata": {
  "kernelspec": {
   "display_name": "Python 3 (ipykernel)",
   "language": "python",
   "name": "python3"
  },
  "language_info": {
   "codemirror_mode": {
    "name": "ipython",
    "version": 3
   },
   "file_extension": ".py",
   "mimetype": "text/x-python",
   "name": "python",
   "nbconvert_exporter": "python",
   "pygments_lexer": "ipython3",
   "version": "3.10.18"
  }
 },
 "nbformat": 4,
 "nbformat_minor": 5
}
